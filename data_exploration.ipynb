{
 "cells": [
  {
   "cell_type": "code",
   "execution_count": 19,
   "metadata": {},
   "outputs": [],
   "source": [
    "# Data investigation\n",
    "import os\n",
    "import pandas as pd"
   ]
  },
  {
   "cell_type": "code",
   "execution_count": 9,
   "metadata": {},
   "outputs": [],
   "source": [
    "from fastai import *"
   ]
  },
  {
   "cell_type": "code",
   "execution_count": 15,
   "metadata": {},
   "outputs": [
    {
     "data": {
      "text/plain": "['export.pkl',\n 'apparel-dataset',\n 'apparel-dataset.zip',\n '.gitignore',\n 'Model_training.ipynb',\n '.git']"
     },
     "execution_count": 15,
     "metadata": {},
     "output_type": "execute_result"
    }
   ],
   "source": [
    "os.chdir(\"/Users/sucooper/Documents/brown-bag/clothing-classifier/clothing_classification\")\n",
    "os.listdir()"
   ]
  },
  {
   "cell_type": "code",
   "execution_count": null,
   "metadata": {},
   "outputs": [],
   "source": [
    "# Load dataset\n",
    "if 'apparel-dataset' not in os.listdir():\n",
    "    if 'apparel-dataset.zip' not in os.listdir():\n",
    "        print('Dataset has not been downloaded. Downloading now from kaggle')\n",
    "        !kaggle datasets download -d kaiska/apparel-dataset\n",
    "    # unzip\n",
    "    !unzip apparel-dataset.zip -d ./apparel-dataset\n",
    "# move dataset into the correct location\n",
    "else:\n",
    "    print(\"Dataset already loaded\")"
   ]
  },
  {
   "cell_type": "code",
   "execution_count": 54,
   "metadata": {},
   "outputs": [],
   "source": [
    "# Tabulate the kinds of data\n",
    "df = pd.DataFrame([item.split('_') for item in os.listdir('apparel-dataset')])\n",
    "df.columns = ['Colour', 'Item']\n",
    "df['Count'] = [len(os.listdir('apparel-dataset/' + item)) for item in os.listdir('apparel-dataset')]\n",
    "df['Count'] = df['Count'].astype(int)\n"
   ]
  },
  {
   "cell_type": "code",
   "execution_count": 55,
   "metadata": {},
   "outputs": [],
   "source": [
    "shaped_df = df.pivot(index='Colour', columns='Item', values='Count')\n",
    "shaped_df[shaped_df.isna()] = 0"
   ]
  },
  {
   "cell_type": "code",
   "execution_count": 56,
   "metadata": {},
   "outputs": [
    {
     "data": {
      "text/html": "<div>\n<style scoped>\n    .dataframe tbody tr th:only-of-type {\n        vertical-align: middle;\n    }\n\n    .dataframe tbody tr th {\n        vertical-align: top;\n    }\n\n    .dataframe thead th {\n        text-align: right;\n    }\n</style>\n<table border=\"1\" class=\"dataframe\">\n  <thead>\n    <tr style=\"text-align: right;\">\n      <th>Item</th>\n      <th>dress</th>\n      <th>hoodie</th>\n      <th>pants</th>\n      <th>shirt</th>\n      <th>shoes</th>\n      <th>shorts</th>\n      <th>skirt</th>\n      <th>suit</th>\n    </tr>\n    <tr>\n      <th>Colour</th>\n      <th></th>\n      <th></th>\n      <th></th>\n      <th></th>\n      <th></th>\n      <th></th>\n      <th></th>\n      <th></th>\n    </tr>\n  </thead>\n  <tbody>\n    <tr>\n      <th>black</th>\n      <td>450.0</td>\n      <td>0.0</td>\n      <td>870.0</td>\n      <td>715.0</td>\n      <td>766.0</td>\n      <td>328.0</td>\n      <td>0.0</td>\n      <td>320.0</td>\n    </tr>\n    <tr>\n      <th>blue</th>\n      <td>502.0</td>\n      <td>0.0</td>\n      <td>798.0</td>\n      <td>741.0</td>\n      <td>523.0</td>\n      <td>299.0</td>\n      <td>0.0</td>\n      <td>0.0</td>\n    </tr>\n    <tr>\n      <th>brown</th>\n      <td>0.0</td>\n      <td>188.0</td>\n      <td>311.0</td>\n      <td>0.0</td>\n      <td>464.0</td>\n      <td>0.0</td>\n      <td>0.0</td>\n      <td>0.0</td>\n    </tr>\n    <tr>\n      <th>green</th>\n      <td>0.0</td>\n      <td>0.0</td>\n      <td>227.0</td>\n      <td>230.0</td>\n      <td>455.0</td>\n      <td>135.0</td>\n      <td>0.0</td>\n      <td>243.0</td>\n    </tr>\n    <tr>\n      <th>pink</th>\n      <td>0.0</td>\n      <td>347.0</td>\n      <td>246.0</td>\n      <td>0.0</td>\n      <td>0.0</td>\n      <td>0.0</td>\n      <td>513.0</td>\n      <td>0.0</td>\n    </tr>\n    <tr>\n      <th>red</th>\n      <td>800.0</td>\n      <td>349.0</td>\n      <td>308.0</td>\n      <td>332.0</td>\n      <td>610.0</td>\n      <td>0.0</td>\n      <td>0.0</td>\n      <td>0.0</td>\n    </tr>\n    <tr>\n      <th>silver</th>\n      <td>0.0</td>\n      <td>0.0</td>\n      <td>0.0</td>\n      <td>0.0</td>\n      <td>403.0</td>\n      <td>0.0</td>\n      <td>361.0</td>\n      <td>0.0</td>\n    </tr>\n    <tr>\n      <th>white</th>\n      <td>818.0</td>\n      <td>0.0</td>\n      <td>274.0</td>\n      <td>0.0</td>\n      <td>600.0</td>\n      <td>120.0</td>\n      <td>0.0</td>\n      <td>354.0</td>\n    </tr>\n    <tr>\n      <th>yellow</th>\n      <td>566.0</td>\n      <td>0.0</td>\n      <td>0.0</td>\n      <td>0.0</td>\n      <td>0.0</td>\n      <td>195.0</td>\n      <td>409.0</td>\n      <td>0.0</td>\n    </tr>\n  </tbody>\n</table>\n</div>",
      "text/plain": "Item    dress  hoodie  pants  shirt  shoes  shorts  skirt   suit\nColour                                                          \nblack   450.0     0.0  870.0  715.0  766.0   328.0    0.0  320.0\nblue    502.0     0.0  798.0  741.0  523.0   299.0    0.0    0.0\nbrown     0.0   188.0  311.0    0.0  464.0     0.0    0.0    0.0\ngreen     0.0     0.0  227.0  230.0  455.0   135.0    0.0  243.0\npink      0.0   347.0  246.0    0.0    0.0     0.0  513.0    0.0\nred     800.0   349.0  308.0  332.0  610.0     0.0    0.0    0.0\nsilver    0.0     0.0    0.0    0.0  403.0     0.0  361.0    0.0\nwhite   818.0     0.0  274.0    0.0  600.0   120.0    0.0  354.0\nyellow  566.0     0.0    0.0    0.0    0.0   195.0  409.0    0.0"
     },
     "execution_count": 56,
     "metadata": {},
     "output_type": "execute_result"
    }
   ],
   "source": [
    "shaped_df"
   ]
  },
  {
   "cell_type": "code",
   "execution_count": 20,
   "metadata": {},
   "outputs": [],
   "source": [
    "# convert to multilabel format\n",
    "dataset_dir = Path('apparel-dataset')\n",
    "# create a csv file with | filelocation | labels |\n",
    "fns = get_image_files(dataset_dir)\n"
   ]
  },
  {
   "cell_type": "code",
   "execution_count": 38,
   "metadata": {},
   "outputs": [],
   "source": [
    "labels = [{\"fname\":image, \"labels\":image.parent.name.replace('_', ' ')} for image in fns]\n",
    "csv_labels = pd.DataFrame(labels)\n",
    "csv_labels.to_csv('multi_labels.csv', index=False)"
   ]
  },
  {
   "cell_type": "code",
   "execution_count": 63,
   "metadata": {},
   "outputs": [],
   "source": [
    "# Create a sub dataset\n",
    "subset = [{\"fname\": 'apparel-dataset/' + cat +'/' + i, \"labels\":cat.replace('_', ' ')} for cat in os.listdir('apparel-dataset') for i in os.listdir('apparel-dataset/' + cat)[0:10]]\n",
    "subset_df = pd.DataFrame(subset)\n",
    "subset_df.to_csv('multilabel_subset.csv', index=False)"
   ]
  },
  {
   "cell_type": "code",
   "execution_count": 66,
   "metadata": {},
   "outputs": [],
   "source": [
    "# Image Block and Category Block\n",
    "filename = 'multilabel_subset.csv'\n",
    "multilables = pd.read_csv(filename)\n",
    "\n",
    "# Turning it into a multilabel data block\n",
    "path = Path('.')\n",
    "def get_x(r): return path/r['fname']\n",
    "def get_y(r): return r['labels'].split(' ')\n",
    "dblock = DataBlock(blocks=(ImageBlock, MultiCategoryBlock), get_x = get_x, get_y = get_y, item_tfms=RandomResizedCrop(128, min_scale=0.35))\n",
    "dsets = dblock.datasets(multilables)"
   ]
  },
  {
   "cell_type": "code",
   "execution_count": 67,
   "metadata": {},
   "outputs": [
    {
     "data": {
      "text/plain": "(#370) [(PILImage mode=RGB size=256x256, TensorMultiCategory([0., 0., 0., 0., 1., 0., 0., 0., 0., 1., 0., 0., 0., 0., 0., 0., 0.])),(PILImage mode=RGB size=256x256, TensorMultiCategory([0., 0., 0., 0., 1., 0., 0., 0., 0., 1., 0., 0., 0., 0., 0., 0., 0.])),(PILImage mode=RGB size=256x256, TensorMultiCategory([0., 0., 0., 0., 1., 0., 0., 0., 0., 1., 0., 0., 0., 0., 0., 0., 0.])),(PILImage mode=RGB size=256x256, TensorMultiCategory([0., 0., 0., 0., 1., 0., 0., 0., 0., 1., 0., 0., 0., 0., 0., 0., 0.])),(PILImage mode=RGB size=256x256, TensorMultiCategory([0., 0., 0., 0., 1., 0., 0., 0., 0., 1., 0., 0., 0., 0., 0., 0., 0.])),(PILImage mode=RGB size=256x256, TensorMultiCategory([0., 0., 0., 0., 1., 0., 0., 0., 0., 1., 0., 0., 0., 0., 0., 0., 0.])),(PILImage mode=RGB size=256x256, TensorMultiCategory([0., 0., 0., 0., 1., 0., 0., 0., 0., 1., 0., 0., 0., 0., 0., 0., 0.])),(PILImage mode=RGB size=256x256, TensorMultiCategory([0., 0., 0., 0., 1., 0., 0., 0., 0., 1., 0., 0., 0., 0., 0., 0., 0.])),(PILImage mode=RGB size=256x256, TensorMultiCategory([0., 0., 0., 0., 1., 0., 0., 0., 0., 1., 0., 0., 0., 0., 0., 0., 0.])),(PILImage mode=RGB size=256x256, TensorMultiCategory([0., 0., 0., 0., 1., 0., 0., 0., 0., 1., 0., 0., 0., 0., 0., 0., 0.]))...]"
     },
     "execution_count": 67,
     "metadata": {},
     "output_type": "execute_result"
    }
   ],
   "source": [
    "dsets"
   ]
  },
  {
   "cell_type": "code",
   "execution_count": 43,
   "metadata": {},
   "outputs": [
    {
     "data": {
      "text/plain": "(12936, 3234)"
     },
     "execution_count": 43,
     "metadata": {},
     "output_type": "execute_result"
    }
   ],
   "source": [
    "len(dsets.train),len(dsets.valid)"
   ]
  },
  {
   "cell_type": "code",
   "execution_count": 32,
   "metadata": {},
   "outputs": [],
   "source": [
    "# Multilabel training\n",
    "clothes = DataBlock(\n",
    "    blocks=(ImageBlock, CategoryBlock), \n",
    "    get_items=get_image_files, \n",
    "    splitter=RandomSplitter(valid_pct=0.2, seed=42),\n",
    "    get_y=parent_label,\n",
    "    item_tfms=RandomResizedCrop(460, min_scale=0.5),\n",
    "    batch_tfms=aug_transforms(size=224, min_scale=0.7))"
   ]
  },
  {
   "cell_type": "code",
   "execution_count": null,
   "metadata": {},
   "outputs": [],
   "source": []
  },
  {
   "cell_type": "code",
   "execution_count": null,
   "metadata": {},
   "outputs": [],
   "source": []
  }
 ],
 "metadata": {
  "kernelspec": {
   "display_name": "Python 3.9.5 64-bit ('.venv': venv)",
   "name": "python395jvsc74a57bd0ef4a00f2d98425f6015ad7d2d367adf9d9590185d8af77ca57b9c8b381bc0d32"
  },
  "language_info": {
   "codemirror_mode": {
    "name": "ipython",
    "version": 3
   },
   "file_extension": ".py",
   "mimetype": "text/x-python",
   "name": "python",
   "nbconvert_exporter": "python",
   "pygments_lexer": "ipython3",
   "version": "3.9.5"
  },
  "orig_nbformat": 2
 },
 "nbformat": 4,
 "nbformat_minor": 2
}