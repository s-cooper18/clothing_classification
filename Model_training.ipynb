{
 "cells": [
  {
   "cell_type": "code",
   "execution_count": null,
   "id": "26c92447",
   "metadata": {},
   "outputs": [],
   "source": [
    "!pip install --upgrade Pillow\n",
    "import fastbook\n",
    "fastbook.setup_book()"
   ]
  },
  {
   "cell_type": "code",
   "execution_count": null,
   "id": "86ac1e9f",
   "metadata": {},
   "outputs": [],
   "source": [
    "!pip install kaggle\n",
    "# go to kaggle and install your unique api key - move this into the location"
   ]
  },
  {
   "cell_type": "code",
   "execution_count": null,
   "id": "f5cfebe6",
   "metadata": {},
   "outputs": [],
   "source": [
    "!kaggle datasets download -d kaiska/apparel-dataset\n",
    "# move dataset into the correct location"
   ]
  },
  {
   "cell_type": "code",
   "execution_count": null,
   "id": "aad83770",
   "metadata": {},
   "outputs": [],
   "source": []
  }
 ],
 "metadata": {
  "kernelspec": {
   "display_name": "Python 3",
   "language": "python",
   "name": "python3"
  },
  "language_info": {
   "codemirror_mode": {
    "name": "ipython",
    "version": 3
   },
   "file_extension": ".py",
   "mimetype": "text/x-python",
   "name": "python",
   "nbconvert_exporter": "python",
   "pygments_lexer": "ipython3",
   "version": "3.8.5"
  }
 },
 "nbformat": 4,
 "nbformat_minor": 5
}
