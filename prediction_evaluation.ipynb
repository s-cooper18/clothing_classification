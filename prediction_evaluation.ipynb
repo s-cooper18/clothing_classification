{
 "cells": [
  {
   "cell_type": "code",
   "execution_count": 1,
   "id": "0e8adb6a",
   "metadata": {},
   "outputs": [],
   "source": [
    "import fastbook\n",
    "fastbook.setup_book()\n",
    "from fastbook import *"
   ]
  },
  {
   "cell_type": "code",
   "execution_count": 3,
   "id": "629b3b71",
   "metadata": {},
   "outputs": [],
   "source": [
    "learn_inf = load_learner('export.pkl')"
   ]
  },
  {
   "cell_type": "code",
   "execution_count": 5,
   "id": "c829c957",
   "metadata": {},
   "outputs": [],
   "source": [
    "path = Path('apparel-dataset')\n",
    "fns = get_image_files(path)"
   ]
  },
  {
   "cell_type": "code",
   "execution_count": 9,
   "id": "483462c9",
   "metadata": {},
   "outputs": [],
   "source": [
    "clothes = DataBlock(\n",
    "    blocks=(ImageBlock, CategoryBlock), \n",
    "    get_items=get_image_files, \n",
    "    splitter=RandomSplitter(valid_pct=0.2, seed=42),\n",
    "    get_y=parent_label,\n",
    "    item_tfms=RandomResizedCrop(460, min_scale=0.5),\n",
    "    batch_tfms=aug_transforms(size=224, min_scale=0.7))"
   ]
  },
  {
   "cell_type": "code",
   "execution_count": 14,
   "id": "08e41df7",
   "metadata": {},
   "outputs": [],
   "source": [
    "import pandas as pd"
   ]
  },
  {
   "cell_type": "code",
   "execution_count": 21,
   "id": "79ecf27c",
   "metadata": {},
   "outputs": [
    {
     "data": {
      "text/plain": [
       "'pink_skirt'"
      ]
     },
     "execution_count": 21,
     "metadata": {},
     "output_type": "execute_result"
    }
   ],
   "source": [
    "fns[0].parent.name"
   ]
  },
  {
   "cell_type": "code",
   "execution_count": 24,
   "id": "a0cd52d9",
   "metadata": {},
   "outputs": [],
   "source": [
    "labels = [{\"file\":image.name, \"labels\":image.parent.name} for image in fns]"
   ]
  },
  {
   "cell_type": "code",
   "execution_count": 31,
   "id": "a7463a0d",
   "metadata": {},
   "outputs": [],
   "source": [
    "df = pd.DataFrame(labels)"
   ]
  },
  {
   "cell_type": "code",
   "execution_count": 33,
   "id": "1c2dbf03",
   "metadata": {},
   "outputs": [],
   "source": [
    "df.to_csv('multi_labels.csv', index=False)"
   ]
  }
 ],
 "metadata": {
  "kernelspec": {
   "display_name": "Python 3",
   "language": "python",
   "name": "python3"
  },
  "language_info": {
   "codemirror_mode": {
    "name": "ipython",
    "version": 3
   },
   "file_extension": ".py",
   "mimetype": "text/x-python",
   "name": "python",
   "nbconvert_exporter": "python",
   "pygments_lexer": "ipython3",
   "version": "3.8.5"
  }
 },
 "nbformat": 4,
 "nbformat_minor": 5
}
